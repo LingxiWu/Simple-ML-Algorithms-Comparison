{
 "cells": [
  {
   "cell_type": "code",
   "execution_count": 15,
   "metadata": {},
   "outputs": [
    {
     "name": "stdout",
     "output_type": "stream",
     "text": [
      "[]\n",
      "[0.995797190754]\n",
      "[0.995797190754, 0.998198767578]\n",
      "[0.995797190754, 0.998198767578, 0.998957181229]\n"
     ]
    },
    {
     "ename": "ValueError",
     "evalue": "could not convert string to float: '---------\\n'",
     "output_type": "error",
     "traceback": [
      "\u001b[0;31m---------------------------------------------------------------------------\u001b[0m",
      "\u001b[0;31mValueError\u001b[0m                                Traceback (most recent call last)",
      "\u001b[0;32m<ipython-input-15-ca6788c919df>\u001b[0m in \u001b[0;36m<module>\u001b[0;34m()\u001b[0m\n\u001b[1;32m     34\u001b[0m         \u001b[0mx_temp\u001b[0m \u001b[0;34m=\u001b[0m \u001b[0;34m[\u001b[0m\u001b[0;34m]\u001b[0m\u001b[0;34m\u001b[0m\u001b[0m\n\u001b[1;32m     35\u001b[0m     \u001b[0;32melse\u001b[0m\u001b[0;34m:\u001b[0m\u001b[0;34m\u001b[0m\u001b[0m\n\u001b[0;32m---> 36\u001b[0;31m         \u001b[0mx_temp\u001b[0m\u001b[0;34m.\u001b[0m\u001b[0mappend\u001b[0m\u001b[0;34m(\u001b[0m\u001b[0mfloat\u001b[0m\u001b[0;34m(\u001b[0m\u001b[0mline\u001b[0m\u001b[0;34m)\u001b[0m\u001b[0;34m)\u001b[0m\u001b[0;34m\u001b[0m\u001b[0m\n\u001b[0m\u001b[1;32m     37\u001b[0m \u001b[0;34m\u001b[0m\u001b[0m\n\u001b[1;32m     38\u001b[0m \u001b[0;34m\u001b[0m\u001b[0m\n",
      "\u001b[0;31mValueError\u001b[0m: could not convert string to float: '---------\\n'"
     ]
    }
   ],
   "source": [
    "import plotly.plotly as py\n",
    "import plotly.graph_objs as go\n",
    "import plotly\n",
    "plotly.tools.set_credentials_file(username='Lingxiwu', api_key='0YppZ4Q4YGT2w3VVohz1')\n",
    "import numpy as np\n",
    "\n",
    "# x0 = np.random.randn(50)\n",
    "# x1 = np.random.randn(50) + 2\n",
    "\n",
    "# trace0 = go.Box(x=x0)\n",
    "# trace1 = go.Box(x=x1)\n",
    "# data = [trace0, trace1]\n",
    "# py.iplot(data)\n",
    "\n",
    "training_results_file = open('training_results', 'r')\n",
    "# testing_results_file = open('testing_results', 'r')\n",
    "\n",
    "data_traces_training = []\n",
    "data_traces_testing = []\n",
    "\n",
    "x_temp = []\n",
    "\n",
    "# Graph Training Results.\n",
    "for line in training_results_file:\n",
    "#     print(line)\n",
    "    print(x_temp)\n",
    "    if '---------' in line: \n",
    "        if len(x_temp) > 0:\n",
    "            n_x = np.asarray(x_temp) # convert list to numpy array.\n",
    "            \n",
    "#             print(n_x)\n",
    "            trace = go.Box(x=n_x)\n",
    "            data_traces_training.append(trace)\n",
    "        x_temp = []\n",
    "    else:\n",
    "        x_temp.append(float(line))\n",
    "        \n",
    "        \n",
    "        \n",
    "training_results_file.close()\n",
    "#py.iplot(data_traces_training)  \n",
    "\n",
    "\n",
    "# testing_results_file.close()\n"
   ]
  }
 ],
 "metadata": {
  "kernelspec": {
   "display_name": "Python 3",
   "language": "python",
   "name": "python3"
  },
  "language_info": {
   "codemirror_mode": {
    "name": "ipython",
    "version": 3
   },
   "file_extension": ".py",
   "mimetype": "text/x-python",
   "name": "python",
   "nbconvert_exporter": "python",
   "pygments_lexer": "ipython3",
   "version": "3.6.1"
  }
 },
 "nbformat": 4,
 "nbformat_minor": 2
}
