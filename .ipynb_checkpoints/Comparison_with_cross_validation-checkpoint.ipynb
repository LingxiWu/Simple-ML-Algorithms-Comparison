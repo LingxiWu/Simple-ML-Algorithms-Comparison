{
 "cells": [
  {
   "cell_type": "code",
   "execution_count": 6,
   "metadata": {
    "collapsed": true
   },
   "outputs": [],
   "source": [
    "# Imports\n",
    "from sklearn.model_selection import StratifiedKFold\n",
    "from sklearn.linear_model import LogisticRegression\n",
    "\n",
    "from sklearn.neighbors import KNeighborsClassifier\n",
    "from sklearn.svm import SVC\n",
    "from sklearn.ensemble import RandomForestClassifier\n",
    "from sklearn.tree import DecisionTreeClassifier\n",
    "from sklearn.ensemble import AdaBoostClassifier\n",
    "\n",
    "from sklearn.metrics import classification_report\n",
    "\n",
    "import pandas as pd\n",
    "import numpy as np"
   ]
  },
  {
   "cell_type": "code",
   "execution_count": 7,
   "metadata": {},
   "outputs": [],
   "source": [
    "data = pd.read_csv('creditcard.csv')"
   ]
  },
  {
   "cell_type": "code",
   "execution_count": 8,
   "metadata": {},
   "outputs": [],
   "source": [
    "# Select features: V1 ~ V28 and Amount\n",
    "# Select target: Class\n",
    "features = ['Amount'] + ['V%d' % index for index in range(1, 29)]\n",
    "target = 'Class'\n",
    "X = data[features]\n",
    "y = data[target]"
   ]
  },
  {
   "cell_type": "code",
   "execution_count": 9,
   "metadata": {},
   "outputs": [],
   "source": [
    "# Normalize values for each feature, because there are many features with wide range of values\n",
    "# We need to get them in the equivalent range. Make the distribution of each values on the same scale.\n",
    "# Normalization procedure: (value - mean)/std\n",
    "# Normalization has to be done after split individually on both train and test sets.\n",
    "# Scaled data has zero mean and unit variance:\n",
    "def nomalization(X):\n",
    "    for feature in X.columns:\n",
    "        X[feature] -= X[feature].mean()\n",
    "        X[feature] /= X[feature].std()\n",
    "    return X"
   ]
  },
  {
   "cell_type": "code",
   "execution_count": 10,
   "metadata": {},
   "outputs": [],
   "source": [
    "# 1. Define a model\n",
    "# 2. Stratified K-Folds cross-validator maintains percentage of samples for each class.\n",
    "# 3. Random_state = none ensures the results is replicable.\n",
    "# n_splits: how many times we want to split the data.\n",
    "\n",
    "# DT = DecisionTreeClassifier()\n",
    "# KNN = KNeighborsClassifier()\n",
    "# RFC = RandomForestClassifier()\n",
    "# ABC = AdaBoostClassifier()\n",
    "# SVM = SVC() \n",
    "\n",
    "skf = StratifiedKFold(n_splits=4, random_state=None, shuffle=False)\n",
    "for train_indices, test_indices in skf.split(X,y):\n",
    "    \n",
    "\n",
    "\n"
   ]
  },
  {
   "cell_type": "code",
   "execution_count": null,
   "metadata": {
    "collapsed": true
   },
   "outputs": [],
   "source": []
  }
 ],
 "metadata": {
  "kernelspec": {
   "display_name": "Python 3",
   "language": "python",
   "name": "python3"
  },
  "language_info": {
   "codemirror_mode": {
    "name": "ipython",
    "version": 3
   },
   "file_extension": ".py",
   "mimetype": "text/x-python",
   "name": "python",
   "nbconvert_exporter": "python",
   "pygments_lexer": "ipython3",
   "version": "3.6.1"
  }
 },
 "nbformat": 4,
 "nbformat_minor": 2
}
