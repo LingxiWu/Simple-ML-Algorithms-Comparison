{
 "cells": [
  {
   "cell_type": "code",
   "execution_count": null,
   "metadata": {
    "collapsed": true
   },
   "outputs": [],
   "source": [
    "# Imports\n",
    "from sklearn.model_selection import StratifiedShuffleSplit\n",
    "from sklearn.linear_model import LogisticRegression\n",
    "from sklearn.ensemble import RandomForestClassifier\n",
    "from sklearn.metrics import classification_report\n",
    "from sklearn.neighbors import KNeighborsClassifier\n",
    "import pandas as pd\n",
    "import numpy as np"
   ]
  },
  {
   "cell_type": "code",
   "execution_count": null,
   "metadata": {
    "collapsed": true
   },
   "outputs": [],
   "source": [
    "data = pd.read_csv('creditcard.csv')\n",
    "print('trick')"
   ]
  },
  {
   "cell_type": "code",
   "execution_count": null,
   "metadata": {
    "collapsed": true
   },
   "outputs": [],
   "source": [
    "# link: https://www.data-blogger.com/2017/06/15/fraud-detection-a-simple-machine-learning-approach/\n",
    "# Make some make some observations about the dataset. Select one to run.\n",
    "# Observations: 28 fields. Encoded for privacy reason except Amount, Time, and Class.\n",
    "#               highly unbalanced\n",
    "# data.head(100)\n",
    "# data.shape\n",
    "# data.info()\n",
    "# print(data.describe()) # statistical summary of all the columns\n",
    "# print(data['Class'].value_counts())             "
   ]
  },
  {
   "cell_type": "code",
   "execution_count": null,
   "metadata": {
    "collapsed": true
   },
   "outputs": [],
   "source": [
    "# Select features: V1 ~ V28 and Amount\n",
    "# Select target: Class\n",
    "features = ['Amount'] + ['V%d' % index for index in range(1, 29)]\n",
    "target = 'Class'\n",
    "X = data[features]\n",
    "y = data[target]"
   ]
  },
  {
   "cell_type": "code",
   "execution_count": null,
   "metadata": {
    "collapsed": true
   },
   "outputs": [],
   "source": [
    "# Normalize values for each feature, because there are many features with wide range of values\n",
    "# We need to get them in the equivalent range. Make the distribution of each values on the same scale.\n",
    "# Normalization procedure: (value - mean)/std\n",
    "# Normalization has to be done after split individually on both train and test sets.\n",
    "def nomalization(X):\n",
    "    for feature in X.columns:\n",
    "        X[feature] -= X[feature].mean()\n",
    "        X[feature] /= X[feature].std()\n",
    "    return X"
   ]
  },
  {
   "cell_type": "code",
   "execution_count": null,
   "metadata": {
    "collapsed": true
   },
   "outputs": [],
   "source": [
    "# 1. Define a model\n",
    "# 2. Split the data using StratisfiedShuffleSplit to ensure that both train and test have roughly the same distribution\n",
    "#    of Class variables, because the data is highly unbalanced. \n",
    "# 3. Random_state = none ensures the results is replicable.\n",
    "# Tips: X = np.array([2,1,4,2,6,7,3]) \n",
    "#       indices = [0,5]\n",
    "#       print(X[indices]) it will not work on pandas dataframe, have to use iloc.\n",
    "# n_splits: how many times we want to split the data.\n",
    "LR = LogisticRegression()\n",
    "RFC = RandomForestClassifier()\n",
    "splitter = StratifiedShuffleSplit(n_splits=1, test_size=0.5, random_state=None)\n",
    "for train_indices, test_indices in splitter.split(X, y): \n",
    "    \n",
    "    # train/test split.\n",
    "    X_train = X.iloc[train_indices] \n",
    "    y_train = y.iloc[train_indices]\n",
    "    X_test = X.iloc[test_indices]\n",
    "    y_test = y.iloc[test_indices]\n",
    "    \n",
    "    # normalize data.\n",
    "    X_train = nomalization(X_train)\n",
    "    X_test = nomalization(X_test)\n",
    "    \n",
    "    # fit and predict\n",
    "#     LR.fit(X_train, y_train)\n",
    "    RFC.fit(X_train, y_train)\n",
    "#     y_pred = LR.predict(X_test)\n",
    "    y_pred = RFC.predict(X_test)\n",
    "\n",
    "\n",
    "    # Show results\n",
    "    print(classification_report(y_test, y_pred))\n"
   ]
  },
  {
   "cell_type": "code",
   "execution_count": null,
   "metadata": {
    "collapsed": true
   },
   "outputs": [],
   "source": [
    "# # Try KNN\n",
    "# KNN = KNeighborsClassifier()\n",
    "\n",
    "# # Fit the model\n",
    "# KNN.fit(X_train,y_train)\n",
    "# y_pred = KNN.predict(X_test)\n",
    "\n",
    "# # Show results\n",
    "# print(classification_report(y_test, y_pred))\n"
   ]
  },
  {
   "cell_type": "code",
   "execution_count": null,
   "metadata": {
    "collapsed": true
   },
   "outputs": [],
   "source": [
    "\n",
    "\n"
   ]
  },
  {
   "cell_type": "code",
   "execution_count": null,
   "metadata": {
    "collapsed": true
   },
   "outputs": [],
   "source": []
  },
  {
   "cell_type": "code",
   "execution_count": null,
   "metadata": {
    "collapsed": true
   },
   "outputs": [],
   "source": []
  }
 ],
 "metadata": {
  "kernelspec": {
   "display_name": "Python 3",
   "language": "python",
   "name": "python3"
  },
  "language_info": {
   "codemirror_mode": {
    "name": "ipython",
    "version": 3
   },
   "file_extension": ".py",
   "mimetype": "text/x-python",
   "name": "python",
   "nbconvert_exporter": "python",
   "pygments_lexer": "ipython3",
   "version": "3.6.1"
  }
 },
 "nbformat": 4,
 "nbformat_minor": 2
}
