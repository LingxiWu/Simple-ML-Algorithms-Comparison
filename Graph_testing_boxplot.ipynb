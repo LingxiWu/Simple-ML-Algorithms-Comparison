{
 "cells": [
  {
   "cell_type": "code",
   "execution_count": 2,
   "metadata": {},
   "outputs": [
    {
     "name": "stdout",
     "output_type": "stream",
     "text": [
      "[array([ 0.99843755,  0.99843755,  0.99843755,  0.99843755,  0.99843755]), array([ 0.99922756,  0.99922756,  0.99922756,  0.99922756,  0.99922756]), array([ 0.99738418,  0.99738418,  0.99738418,  0.99738418,  0.99738418]), array([ 0.99894665,  0.99894665,  0.99894665,  0.99894665,  0.99894665]), array([ 0.99906954,  0.99906954,  0.99906954,  0.99906954,  0.99906954])]\n"
     ]
    }
   ],
   "source": [
    "import plotly.plotly as py\n",
    "import plotly.graph_objs as go\n",
    "import plotly\n",
    "# plotly.tools.set_credentials_file(username='Lingxiwu', api_key='0YppZ4Q4YGT2w3VVohz1')\n",
    "import numpy as np\n",
    "import matplotlib as mpl \n",
    "import matplotlib.pyplot as plt \n",
    "\n",
    "testing_results_file = open('testing_results', 'r')\n",
    "\n",
    "data_traces_testing = []\n",
    "\n",
    "x_temp = []\n",
    "# Graph Testing Results.\n",
    "for line in testing_results_file:\n",
    "    if '---------' in line: \n",
    "        if len(x_temp) > 0:\n",
    "            n_x = np.asarray(x_temp) # convert list to numpy array.\n",
    "            data_traces_testing.append(n_x)\n",
    "        x_temp = []\n",
    "    else:\n",
    "        x_temp.append(float(line))\n",
    "\n",
    "print(data_traces_testing)        \n",
    "# Create a figure instance\n",
    "fig_test = plt.figure(2, figsize=(7, 6))\n",
    "\n",
    "# Create an axes instance\n",
    "ax_test = fig_test.add_subplot(111)\n",
    "\n",
    "# Create the boxplot\n",
    "bp_test = ax_test.boxplot(data_traces_testing)\n",
    "\n",
    "# Save the figure\n",
    "fig_test.savefig('testing_results_boxplot.png', bbox_inches='tight')\n",
    "\n",
    "testing_results_file.close()"
   ]
  }
 ],
 "metadata": {
  "kernelspec": {
   "display_name": "Python 3",
   "language": "python",
   "name": "python3"
  },
  "language_info": {
   "codemirror_mode": {
    "name": "ipython",
    "version": 3
   },
   "file_extension": ".py",
   "mimetype": "text/x-python",
   "name": "python",
   "nbconvert_exporter": "python",
   "pygments_lexer": "ipython3",
   "version": "3.6.1"
  }
 },
 "nbformat": 4,
 "nbformat_minor": 2
}
