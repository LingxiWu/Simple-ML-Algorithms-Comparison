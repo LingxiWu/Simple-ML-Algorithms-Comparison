{
 "cells": [
  {
   "cell_type": "code",
   "execution_count": 16,
   "metadata": {
    "collapsed": true
   },
   "outputs": [],
   "source": [
    "# Imports\n",
    "from sklearn.model_selection import StratifiedShuffleSplit\n",
    "from sklearn.linear_model import LogisticRegression\n",
    "from sklearn.metrics import classification_report\n",
    "import pandas as pd"
   ]
  },
  {
   "cell_type": "code",
   "execution_count": 17,
   "metadata": {},
   "outputs": [],
   "source": [
    "data = pd.read_csv('creditcard.csv')"
   ]
  },
  {
   "cell_type": "raw",
   "metadata": {},
   "source": [
    "link: https://www.data-blogger.com/2017/06/15/fraud-detection-a-simple-machine-learning-approach/\n",
    "Make some make some observations about the dataset. Select one to run.\n",
    "Observations: 28 fields. Encoded for privacy reason except Amount, Time, and Class.\n",
    "              highly unbalanced\n",
    "data.head(100)\n",
    "data.shape\n",
    "data.info()\n",
    "print(data.describe()) # statistical summary of all the columns\n",
    "print(data['Class'].value_counts())             "
   ]
  },
  {
   "cell_type": "raw",
   "metadata": {},
   "source": [
    "Select features: V1 ~ V28 and Amount\n",
    "Select target: Class"
   ]
  },
  {
   "cell_type": "code",
   "execution_count": 19,
   "metadata": {},
   "outputs": [],
   "source": [
    "features = ['Amount'] + ['V%d' % index for index in range(1, 29)]\n",
    "target = 'Class'\n",
    "X = data[features]\n",
    "Y = data[target]"
   ]
  },
  {
   "cell_type": "code",
   "execution_count": null,
   "metadata": {
    "collapsed": true
   },
   "outputs": [],
   "source": []
  }
 ],
 "metadata": {
  "kernelspec": {
   "display_name": "Python 3",
   "language": "python",
   "name": "python3"
  },
  "language_info": {
   "codemirror_mode": {
    "name": "ipython",
    "version": 3
   },
   "file_extension": ".py",
   "mimetype": "text/x-python",
   "name": "python",
   "nbconvert_exporter": "python",
   "pygments_lexer": "ipython3",
   "version": "3.6.1"
  }
 },
 "nbformat": 4,
 "nbformat_minor": 2
}
