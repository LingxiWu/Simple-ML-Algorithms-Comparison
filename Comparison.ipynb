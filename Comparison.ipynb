{
 "cells": [
  {
   "cell_type": "code",
   "execution_count": 207,
   "metadata": {
    "collapsed": true
   },
   "outputs": [],
   "source": [
    "# Imports\n",
    "from sklearn.model_selection import StratifiedShuffleSplit\n",
    "from sklearn.linear_model import LogisticRegression\n",
    "from sklearn.metrics import classification_report\n",
    "import pandas as pd\n",
    "import numpy as np"
   ]
  },
  {
   "cell_type": "code",
   "execution_count": 208,
   "metadata": {},
   "outputs": [],
   "source": [
    "data = pd.read_csv('creditcard.csv')"
   ]
  },
  {
   "cell_type": "code",
   "execution_count": 209,
   "metadata": {
    "collapsed": true
   },
   "outputs": [],
   "source": [
    "# link: https://www.data-blogger.com/2017/06/15/fraud-detection-a-simple-machine-learning-approach/\n",
    "# Make some make some observations about the dataset. Select one to run.\n",
    "# Observations: 28 fields. Encoded for privacy reason except Amount, Time, and Class.\n",
    "#               highly unbalanced\n",
    "# data.head(100)\n",
    "# data.shape\n",
    "# data.info()\n",
    "# print(data.describe()) # statistical summary of all the columns\n",
    "# print(data['Class'].value_counts())             "
   ]
  },
  {
   "cell_type": "code",
   "execution_count": 210,
   "metadata": {},
   "outputs": [],
   "source": [
    "# Select features: V1 ~ V28 and Amount\n",
    "# Select target: Class\n",
    "features = ['Amount'] + ['V%d' % index for index in range(1, 29)]\n",
    "target = 'Class'\n",
    "X = data[features]\n",
    "y = data[target]"
   ]
  },
  {
   "cell_type": "code",
   "execution_count": 211,
   "metadata": {},
   "outputs": [],
   "source": [
    "# Normalize values for each feature, because there are many features with wide range of values\n",
    "# We need to get them in the equivalent range. Make the distribution of each values on the same scale.\n",
    "# Normalization procedure: (value - mean)/std\n",
    "# Normalization has to be done after split individually on both train and test sets.\n",
    "def nomalization(X):\n",
    "    for feature in X.columns:\n",
    "        X[feature] -= X[feature].mean()\n",
    "        X[feature] /= X[feature].std()\n",
    "    return X"
   ]
  },
  {
   "cell_type": "code",
   "execution_count": 212,
   "metadata": {},
   "outputs": [
    {
     "name": "stderr",
     "output_type": "stream",
     "text": [
      "/Users/lingxiwu/anaconda/lib/python3.6/site-packages/ipykernel_launcher.py:7: SettingWithCopyWarning: \n",
      "A value is trying to be set on a copy of a slice from a DataFrame.\n",
      "Try using .loc[row_indexer,col_indexer] = value instead\n",
      "\n",
      "See the caveats in the documentation: http://pandas.pydata.org/pandas-docs/stable/indexing.html#indexing-view-versus-copy\n",
      "  import sys\n",
      "/Users/lingxiwu/anaconda/lib/python3.6/site-packages/ipykernel_launcher.py:8: SettingWithCopyWarning: \n",
      "A value is trying to be set on a copy of a slice from a DataFrame.\n",
      "Try using .loc[row_indexer,col_indexer] = value instead\n",
      "\n",
      "See the caveats in the documentation: http://pandas.pydata.org/pandas-docs/stable/indexing.html#indexing-view-versus-copy\n",
      "  \n"
     ]
    },
    {
     "name": "stdout",
     "output_type": "stream",
     "text": [
      "             precision    recall  f1-score   support\n",
      "\n",
      "          0       1.00      1.00      1.00    142158\n",
      "          1       0.87      0.65      0.74       246\n",
      "\n",
      "avg / total       1.00      1.00      1.00    142404\n",
      "\n",
      "             precision    recall  f1-score   support\n",
      "\n",
      "          0       1.00      1.00      1.00    142158\n",
      "          1       0.88      0.59      0.71       246\n",
      "\n",
      "avg / total       1.00      1.00      1.00    142404\n",
      "\n"
     ]
    }
   ],
   "source": [
    "# 1. Define a model\n",
    "# 2. Split the data using StratisfiedShuffleSplit to ensure that both train and test have roughly the same distribution\n",
    "#    of Class variables, because the data is highly unbalanced. \n",
    "# 3. Random_state = none ensures the results is replicable.\n",
    "# Tips: X = np.array([2,1,4,2,6,7,3]) \n",
    "#       indices = [0,5]\n",
    "#       print(X[indices]) it will not work on pandas dataframe, have to use iloc.\n",
    "# n_splits: how many times we want to split the data.\n",
    "model = LogisticRegression()\n",
    "splitter = StratifiedShuffleSplit(n_splits=2, test_size=0.5, random_state=None)\n",
    "for train_indices, test_indices in splitter.split(X, y): \n",
    "    \n",
    "    # train/test split.\n",
    "    X_train = X.iloc[train_indices] \n",
    "    y_train = y.iloc[train_indices]\n",
    "    X_test = X.iloc[test_indices]\n",
    "    y_test = y.iloc[test_indices]\n",
    "    \n",
    "    # normalize data.\n",
    "    X_train = nomalization(X_train)\n",
    "    X_test = nomalization(X_test)\n",
    "    \n",
    "    # fit and predict\n",
    "    model.fit(X_train, y_train)\n",
    "    y_pred = model.predict(X_test)\n",
    "    \n",
    "    # test and show the results\n",
    "    print(classification_report(y_test, y_pred))\n",
    "    \n"
   ]
  },
  {
   "cell_type": "code",
   "execution_count": null,
   "metadata": {
    "collapsed": true
   },
   "outputs": [],
   "source": []
  }
 ],
 "metadata": {
  "kernelspec": {
   "display_name": "Python 3",
   "language": "python",
   "name": "python3"
  },
  "language_info": {
   "codemirror_mode": {
    "name": "ipython",
    "version": 3
   },
   "file_extension": ".py",
   "mimetype": "text/x-python",
   "name": "python",
   "nbconvert_exporter": "python",
   "pygments_lexer": "ipython3",
   "version": "3.6.1"
  }
 },
 "nbformat": 4,
 "nbformat_minor": 2
}
