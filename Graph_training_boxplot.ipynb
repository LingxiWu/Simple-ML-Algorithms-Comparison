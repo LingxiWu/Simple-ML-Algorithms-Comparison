{
 "cells": [
  {
   "cell_type": "code",
   "execution_count": 5,
   "metadata": {},
   "outputs": [
    {
     "name": "stdout",
     "output_type": "stream",
     "text": [
      "[array([ 0.999605  ,  0.99947334,  0.95643968,  0.99951721,  0.99938553]), array([ 0.99894668,  0.99927584,  0.99899054,  0.99947331,  0.99936359]), array([ 0.97123107,  0.999605  ,  0.99962694,  0.99947333,  0.9993197 ]), array([ 0.99896862,  0.99958306,  0.99927582,  0.99914416,  0.99923192]), array([ 0.99903445,  0.99958306,  0.99945138,  0.99914416,  0.99920997])]\n"
     ]
    }
   ],
   "source": [
    "import plotly.plotly as py\n",
    "import plotly.graph_objs as go\n",
    "import plotly\n",
    "# plotly.tools.set_credentials_file(username='Lingxiwu', api_key='0YppZ4Q4YGT2w3VVohz1')\n",
    "import numpy as np\n",
    "import matplotlib as mpl \n",
    "import matplotlib.pyplot as plt \n",
    "\n",
    "training_results_file = open('training_results', 'r')\n",
    "\n",
    "data_traces_training = []\n",
    "\n",
    "x_temp = []\n",
    "# Graph Training Results.\n",
    "for line in training_results_file:\n",
    "    if '---------' in line: \n",
    "        if len(x_temp) > 0:\n",
    "            n_x = np.asarray(x_temp) # convert list to numpy array.\n",
    "            data_traces_training.append(n_x)\n",
    "        x_temp = []\n",
    "    else:\n",
    "        x_temp.append(float(line))\n",
    "\n",
    "print(data_traces_training)        \n",
    "# Create a figure instance\n",
    "fig_train = plt.figure(1, figsize=(9, 6))\n",
    "\n",
    "# Create an axes instance\n",
    "ax_train = fig_train.add_subplot(111)\n",
    "\n",
    "# Create the boxplot\n",
    "bp_train = ax_train.boxplot(data_traces_training)\n",
    "\n",
    "# Save the figure\n",
    "fig_train.savefig('training_results_boxplot.png', bbox_inches='tight')\n",
    "\n",
    "training_results_file.close()"
   ]
  },
  {
   "cell_type": "code",
   "execution_count": null,
   "metadata": {
    "collapsed": true
   },
   "outputs": [],
   "source": []
  },
  {
   "cell_type": "code",
   "execution_count": null,
   "metadata": {
    "collapsed": true
   },
   "outputs": [],
   "source": []
  }
 ],
 "metadata": {
  "kernelspec": {
   "display_name": "Python 3",
   "language": "python",
   "name": "python3"
  },
  "language_info": {
   "codemirror_mode": {
    "name": "ipython",
    "version": 3
   },
   "file_extension": ".py",
   "mimetype": "text/x-python",
   "name": "python",
   "nbconvert_exporter": "python",
   "pygments_lexer": "ipython3",
   "version": "3.6.1"
  }
 },
 "nbformat": 4,
 "nbformat_minor": 2
}
